{
 "cells": [
  {
   "cell_type": "code",
   "execution_count": 8,
   "metadata": {},
   "outputs": [],
   "source": [
    "import csv\n",
    "import scipy.stats as st\n",
    "import numpy as np\n",
    "import matplotlib.pyplot as plt\n",
    "import pandas as pd\n",
    "import seaborn as sns\n",
    "from openpyxl import load_workbook\n",
    "import sys\n",
    "import warnings\n",
    "if not sys.warnoptions:\n",
    "    warnings.simplefilter(\"ignore\")"
   ]
  },
  {
   "cell_type": "markdown",
   "metadata": {},
   "source": [
    "## Сперва считаем данные и разделим их по полу"
   ]
  },
  {
   "cell_type": "markdown",
   "metadata": {},
   "source": [
    "#### Считываем таблицу с данными для задачи"
   ]
  },
  {
   "cell_type": "code",
   "execution_count": 41,
   "metadata": {},
   "outputs": [],
   "source": [
    "data = pd.read_csv('data.csv', delimiter=',')"
   ]
  },
  {
   "cell_type": "markdown",
   "metadata": {},
   "source": [
    "Отделяем важные признаки: оценка за экзамен, оценка за контрольную и пол студента"
   ]
  },
  {
   "cell_type": "code",
   "execution_count": 23,
   "metadata": {},
   "outputs": [],
   "source": [
    "v = data[[\"exam_9\",\"midterm_9\", \"female_9\"]].copy()\n",
    "v[\"exam_9\"] = v[\"exam_9\"].apply(lambda x : str(x).replace(',', '.'))\n",
    "v['midterm_9'] = v['midterm_9'].apply(lambda x : str(x).replace(',', '.'))\n",
    "v[[\"exam_9\", \"midterm_9\"]] = v[[\"exam_9\", \"midterm_9\"]].apply(pd.to_numeric)"
   ]
  },
  {
   "cell_type": "markdown",
   "metadata": {},
   "source": [
    "#### Отдельно выделяем две таблицы, где только мальчики и только девочки.\n",
    "В соответствующих таблицах - men, women"
   ]
  },
  {
   "cell_type": "code",
   "execution_count": 24,
   "metadata": {},
   "outputs": [],
   "source": [
    "men = v[v[\"female_9\"] == 0]"
   ]
  },
  {
   "cell_type": "code",
   "execution_count": 25,
   "metadata": {},
   "outputs": [],
   "source": [
    "women = v[v[\"female_9\"] == 1]"
   ]
  },
  {
   "cell_type": "markdown",
   "metadata": {},
   "source": [
    "## Далее будем \tоценивать уравнение $$exam_i=β_1+β_2midterm_i+ϵ_i$$ по данным о юношах и девушках и рассчитывать коэффициент детерминации R^2. "
   ]
  },
  {
   "cell_type": "markdown",
   "metadata": {},
   "source": [
    "## Функция для вычисления коэффициента детерминации.\n",
    "### Сначала вычисляются средние значения для оценки за экзамен и за контрольную работу. Далее x обозначает оценку за к/р и целевая переменная y - оценка за экзамен. \n",
    " Для оценки модели $y = b_1 + b_2 \\cdot x$ вычислим коэффициенты $b_1$ и $b_2$.\n",
    " \n",
    "$b_2 = \\frac{\\sum{(x - \\overline{x}) \\cdot (y - \\overline{y})}}{\\sum{(x - \\overline{x})^2}}$\n",
    "\n",
    "Тогда $b_1 = \\overline{y} - b_2 \\cdot \\overline{x}$\n",
    "\n",
    "$ESS = \\sum{(\\hat{y} - \\overline{y})^2}$ \n",
    "\n",
    "$TSS = \\sum{(y - \\overline{y})^2}$\n",
    "\n",
    "$R^2 = \\frac{ESS}{TSS}$"
   ]
  },
  {
   "cell_type": "code",
   "execution_count": 26,
   "metadata": {},
   "outputs": [],
   "source": [
    "def number1_3(vec):\n",
    "    xaverage = vec[\"midterm_9\"].mean()\n",
    "    yaverage = vec[\"exam_9\"].mean()\n",
    "    x = vec[\"midterm_9\"]\n",
    "    y = vec[\"exam_9\"]\n",
    "    \n",
    "    b2 = ((x - xaverage) * (y - yaverage)).sum() / ((x - xaverage) ** 2).sum()\n",
    "    b1 = yaverage - b2 * xaverage\n",
    "    e = y - (b1 + b2 * x)\n",
    "    y_0 = b1 + b2 * x\n",
    "    \n",
    "    tss = ((y - yaverage) ** 2).sum()\n",
    "    ess = ((y_0 - yaverage) ** 2).sum()\n",
    "    R_2 = ess / tss\n",
    "    print(\"R^2 = {}\".format(R_2))\n",
    "    print(\"y = {} + {} * x + e\".format(b1, b2))\n",
    "    \n",
    "    plt.figure()\n",
    "    plt.scatter(x, y)\n",
    "    plt.ylabel('Exam')\n",
    "    plt.xlabel('Midterm')\n",
    "    plt.plot(x, y_0)\n",
    "    \n",
    "    return R_2"
   ]
  },
  {
   "cell_type": "markdown",
   "metadata": {},
   "source": [
    "### Диаграмма рассеивания оценок у мальчиков с наложенной полученной прямой "
   ]
  },
  {
   "cell_type": "code",
   "execution_count": 27,
   "metadata": {},
   "outputs": [
    {
     "name": "stdout",
     "output_type": "stream",
     "text": [
      "R^2 = 0.07912612266709167\n",
      "y = 40.96774429889807 + 0.36224480843946605 * x + e\n"
     ]
    },
    {
     "data": {
      "image/png": "[encoded data removed]",
      "text/plain": [
       "<Figure size 432x288 with 1 Axes>"
      ]
     },
     "metadata": {
      "needs_background": "light"
     },
     "output_type": "display_data"
    }
   ],
   "source": [
    "r_men = number1_3(men)"
   ]
  },
  {
   "cell_type": "markdown",
   "metadata": {},
   "source": [
    "### Диаграмма рассеивания оценок у девочек с наложенной полученной прямой "
   ]
  },
  {
   "cell_type": "code",
   "execution_count": 28,
   "metadata": {},
   "outputs": [
    {
     "name": "stdout",
     "output_type": "stream",
     "text": [
      "R^2 = 0.15120075533840516\n",
      "y = 35.33220627710097 + 0.7564526120173446 * x + e\n"
     ]
    },
    {
     "data": {
      "image/png": "[encoded data removed]",
      "text/plain": [
       "<Figure size 432x288 with 1 Axes>"
      ]
     },
     "metadata": {
      "needs_background": "light"
     },
     "output_type": "display_data"
    }
   ],
   "source": [
    "r_women = number1_3(women)"
   ]
  },
  {
   "cell_type": "markdown",
   "metadata": {},
   "source": [
    "## Функция для проверки связи между оценками за к/р и экзамен\n",
    "Пусть $H_0$ - гипотеза о том, что связь отсутсвует. $H_A$ - альтернатиивная гипотеза, говорящая о наличии связи.\n",
    "### Вычисляется F статистика, которая равна\n",
    "\n",
    "$F = \\frac{R^2 / (k - 1)}{(1 - R^2) / (n - k)} = \\frac{R^2 \\cdot (n - k)}{(k - 1) \\cdot (1 - r)}$ \n",
    "\n",
    "Для проверки гипотезы об отсутствии связи возьмем уровень значимости 5%.\n",
    "\n",
    "_Если метод возвращает **True**, то $H_0$, которая говорит о том, что связь отсутствует, отвергается и нет оснований отвергнуть альтернативную гипотезу о том, что связь есть._"
   ]
  },
  {
   "cell_type": "code",
   "execution_count": 29,
   "metadata": {},
   "outputs": [],
   "source": [
    "def check_connection(r, n, k):\n",
    "    F = r * (n - k) / ((k - 1) * (1 - r))\n",
    "    \n",
    "    if n == men.shape[0]:\n",
    "        F_5 = 4.06\n",
    "    else:\n",
    "        F_5 = 4.75\n",
    "        \n",
    "    print(\"{} и {}\".format(F_5, F))\n",
    "    return F_5 < np.abs(F)         # если true -- связь есть, H_0 отвергается "
   ]
  },
  {
   "cell_type": "markdown",
   "metadata": {},
   "source": [
    "### Проверка гипотезы для мальчиков"
   ]
  },
  {
   "cell_type": "code",
   "execution_count": 30,
   "metadata": {},
   "outputs": [
    {
     "name": "stdout",
     "output_type": "stream",
     "text": [
      "4.06 и 3.9525517362139038\n"
     ]
    },
    {
     "data": {
      "text/plain": [
       "False"
      ]
     },
     "execution_count": 30,
     "metadata": {},
     "output_type": "execute_result"
    }
   ],
   "source": [
    "check_connection(r_men, men.shape[0], 2)"
   ]
  },
  {
   "cell_type": "markdown",
   "metadata": {},
   "source": [
    "#### Принимаем гипотезу о том, что связи между ними нет"
   ]
  },
  {
   "cell_type": "markdown",
   "metadata": {},
   "source": [
    "### Проверка гипотезы для девочек"
   ]
  },
  {
   "cell_type": "code",
   "execution_count": 31,
   "metadata": {},
   "outputs": [
    {
     "name": "stdout",
     "output_type": "stream",
     "text": [
      "4.75 и 1.7813488441390746\n"
     ]
    },
    {
     "data": {
      "text/plain": [
       "False"
      ]
     },
     "execution_count": 31,
     "metadata": {},
     "output_type": "execute_result"
    }
   ],
   "source": [
    "check_connection(r_women, women.shape[0], 2)"
   ]
  },
  {
   "cell_type": "markdown",
   "metadata": {},
   "source": [
    "#### Принимаем гипотезу о том, что связи между ними нет"
   ]
  },
  {
   "cell_type": "markdown",
   "metadata": {},
   "source": [
    "## 5 Оценка модели \n",
    "$exam_i=\\beta_1+\\beta_2 \\cdot midterm_i + \\gamma_1 \\cdot female_i + \\gamma_2 female_i \\cdot midterm_i+e_i$\n",
    "\n",
    "Рассчет производится путем создания матрицы признаков X, состоящей из четырех столбцов: midterm, female, midterm * female и единичного столбца по формуле:\n",
    "\n",
    "$\\hat{\\beta} = (X^T \\cdot X)^{-1} \\cdot X^T \\cdot y$"
   ]
  },
  {
   "cell_type": "code",
   "execution_count": 34,
   "metadata": {},
   "outputs": [],
   "source": [
    "# параметр - полная матрица\n",
    "\n",
    "def number5(vec):                           \n",
    "    y = vec[\"exam_9\"]\n",
    "    x1 = vec[\"midterm_9\"]\n",
    "    x2 = vec[\"female_9\"]\n",
    "    \n",
    "    _vec = vec[[\"midterm_9\", \"female_9\"]]\n",
    "    _vec[\"female*midterm\"] = _vec[\"female_9\"] * _vec[\"midterm_9\"]\n",
    "    _vec[\"one\"] = np.ones(_vec.shape[0])\n",
    "    \n",
    "    r = np.dot(np.linalg.inv(np.dot(np.array(_vec.T.values), np.array(_vec.values))), np.array(_vec.T.values))\n",
    "    res = np.dot(r, y)\n",
    "    \n",
    "    y_0 = res[3] + res[0]*x1 + res[1]*x2 + res[2]*x1*x2\n",
    "    e = y - (res[3] + res[0]*x1.mean() + res[1]*x2.mean() + res[2]*x1.mean()*x2.mean())\n",
    "    \n",
    "    return res, y_0"
   ]
  },
  {
   "cell_type": "markdown",
   "metadata": {},
   "source": [
    "### Вывод результатов "
   ]
  },
  {
   "cell_type": "code",
   "execution_count": 35,
   "metadata": {},
   "outputs": [
    {
     "name": "stdout",
     "output_type": "stream",
     "text": [
      "exami = 40.96774429889814 + 0.36224480843946605 × midterm_i + -5.635538021798709 × female_i + 0.3942078035779111 × female_i × midterm_i + ε_i\n"
     ]
    }
   ],
   "source": [
    "result, y_0 = number5(v)\n",
    "print(\"exami = {} + {} × midterm_i + {} × female_i + {} × female_i × midterm_i + ε_i\".format(result[3],result[0],result[1],result[2]))"
   ]
  },
  {
   "cell_type": "markdown",
   "metadata": {},
   "source": [
    "## Проверка гипотезы о том, согласуются ли данные с утверждением, что регрессионная зависимость между оценками за экзамен и за контрольную одинакова для юношей и девушек \n",
    "\n",
    "$H_0: \\gamma_1 = \\gamma_2 = 0$ \n",
    "\n",
    "$H_A: \\gamma_1^2 + \\gamma_2^2 > 0$\n",
    "\n",
    "Для этого вычислим коэффициент детерминации для ограниченной и неограниченной модели. \n",
    "\n",
    "Ограниченная модель: $exam_i=\\beta_1+\\beta_2 \\cdot midterm_i + e_i$\n",
    "\n",
    "Неограниченная модель $exam_i=\\beta_1+\\beta_2 \\cdot midterm_i + \\gamma_1 \\cdot female_i + \\gamma_2 female_i \\cdot midterm_i+e_i$"
   ]
  },
  {
   "cell_type": "code",
   "execution_count": 36,
   "metadata": {},
   "outputs": [
    {
     "name": "stdout",
     "output_type": "stream",
     "text": [
      "Коэффициент детерминации для неограниченной модели = 0.19534266244033804\n"
     ]
    }
   ],
   "source": [
    "y = v[\"exam_9\"]\n",
    "x1 = v[\"midterm_9\"]\n",
    "x2 = v[\"female_9\"]\n",
    "\n",
    "yaverage = y.mean()\n",
    "y_0 = result[3] + result[0] * x1 + result[1] * x2 + result[2] * x1 * x2\n",
    "\n",
    "tss = ((y - yaverage) ** 2).sum()\n",
    "ess = ((y_0 - yaverage) ** 2).sum()\n",
    "k = ess / tss\n",
    "\n",
    "print(\"Коэффициент детерминации для неограниченной модели = {}\".format(k))"
   ]
  },
  {
   "cell_type": "code",
   "execution_count": 37,
   "metadata": {},
   "outputs": [
    {
     "name": "stdout",
     "output_type": "stream",
     "text": [
      "Коэффициент детерминации для ограниченной модели = 0.10779123664493656\n"
     ]
    }
   ],
   "source": [
    "y_1 = result[3] + result[0] * x1\n",
    "\n",
    "k_1 = np.corrcoef(y, y_1)[1,0] ** 2\n",
    "print(\"Коэффициент детерминации для ограниченной модели = {}\".format(k_1))"
   ]
  },
  {
   "cell_type": "code",
   "execution_count": 38,
   "metadata": {},
   "outputs": [
    {
     "name": "stdout",
     "output_type": "stream",
     "text": [
      "Значение статистики = 3.04656380777672\n"
     ]
    }
   ],
   "source": [
    "F = (k - k_1) * (60 - 4)  / ((1 - k) * 2)\n",
    "print(\"Значение статистики = {}\".format(F))"
   ]
  },
  {
   "cell_type": "markdown",
   "metadata": {},
   "source": [
    "### Критическое значение "
   ]
  },
  {
   "cell_type": "code",
   "execution_count": 39,
   "metadata": {},
   "outputs": [],
   "source": [
    "F_2_56 = 3.1"
   ]
  },
  {
   "cell_type": "markdown",
   "metadata": {},
   "source": [
    "### $H_0$ принимается, то есть данные согласуются с утверждением, что регрессионная зависимость между оценками за экзамен и за контрольную одинакова для юношей и девушек"
   ]
  },
  {
   "cell_type": "code",
   "execution_count": 40,
   "metadata": {},
   "outputs": [
    {
     "data": {
      "text/plain": [
       "True"
      ]
     },
     "execution_count": 40,
     "metadata": {},
     "output_type": "execute_result"
    }
   ],
   "source": [
    "np.abs(F) < F_2_56"
   ]
  }
 ],
 "metadata": {
  "kernelspec": {
   "display_name": "Python 3",
   "language": "python",
   "name": "python3"
  },
  "language_info": {
   "codemirror_mode": {
    "name": "ipython",
    "version": 3
   },
   "file_extension": ".py",
   "mimetype": "text/x-python",
   "name": "python",
   "nbconvert_exporter": "python",
   "pygments_lexer": "ipython3",
   "version": "3.7.1"
  }
 },
 "nbformat": 4,
 "nbformat_minor": 2
}
