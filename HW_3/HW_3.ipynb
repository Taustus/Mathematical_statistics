{
 "cells": [
  {
   "cell_type": "markdown",
   "metadata": {},
   "source": [
    "# Домашнее задание №3\n",
    "\n",
    "Задание выполнил(а): Бабиков Сергей (9 вариант)\n",
    "\n",
    "Файлы «youtube_1.csv» … «youtube_10.csv» содержат следующие сведения о видеороликах на YouTube (по сто роликов на каждый вариант):\n",
    "\n",
    "n — номер наблюдения,\n",
    "id — идентификатор ролика,\n",
    "framerate — число кадров в секунду,\n",
    "frames — общее число кадров в видео,\n",
    "bitrate — битрейт, Кбит/сек.\n",
    "duration — продолжительность, сек.\n",
    "size — размер видеофайла, байт.\n"
   ]
  },
  {
   "cell_type": "code",
   "execution_count": 1,
   "metadata": {},
   "outputs": [],
   "source": [
    "import numpy as np\n",
    "import pandas as pd\n",
    "import matplotlib.pyplot as plt\n",
    "import scipy.stats as stats\n",
    "\n",
    "%matplotlib inline"
   ]
  },
  {
   "cell_type": "markdown",
   "metadata": {},
   "source": [
    "Возьмем данные и построим две корреляционные таблицы (Спирмена https://en.wikipedia.org/wiki/Spearman%27s_rank_correlation_coefficient и Пирсона https://en.wikipedia.org/wiki/Pearson_correlation_coefficient)"
   ]
  },
  {
   "cell_type": "code",
   "execution_count": 2,
   "metadata": {},
   "outputs": [],
   "source": [
    "data = pd.read_csv('data/youtube_9.csv')"
   ]
  },
  {
   "cell_type": "code",
   "execution_count": 3,
   "metadata": {},
   "outputs": [],
   "source": [
    "data.drop(columns = ['id', 'n'], inplace=True)"
   ]
  },
  {
   "cell_type": "code",
   "execution_count": 4,
   "metadata": {},
   "outputs": [
    {
     "data": {
      "text/html": [
       "<div>\n",
       "<style scoped>\n",
       "    .dataframe tbody tr th:only-of-type {\n",
       "        vertical-align: middle;\n",
       "    }\n",
       "\n",
       "    .dataframe tbody tr th {\n",
       "        vertical-align: top;\n",
       "    }\n",
       "\n",
       "    .dataframe thead th {\n",
       "        text-align: right;\n",
       "    }\n",
       "</style>\n",
       "<table border=\"1\" class=\"dataframe\">\n",
       "  <thead>\n",
       "    <tr style=\"text-align: right;\">\n",
       "      <th></th>\n",
       "      <th>framerate</th>\n",
       "      <th>frames</th>\n",
       "      <th>bitrate</th>\n",
       "      <th>duration</th>\n",
       "      <th>size</th>\n",
       "    </tr>\n",
       "  </thead>\n",
       "  <tbody>\n",
       "    <tr>\n",
       "      <th>framerate</th>\n",
       "      <td>1.000000</td>\n",
       "      <td>0.245084</td>\n",
       "      <td>0.410831</td>\n",
       "      <td>0.097332</td>\n",
       "      <td>0.273054</td>\n",
       "    </tr>\n",
       "    <tr>\n",
       "      <th>frames</th>\n",
       "      <td>0.245084</td>\n",
       "      <td>1.000000</td>\n",
       "      <td>0.048906</td>\n",
       "      <td>0.961267</td>\n",
       "      <td>0.523980</td>\n",
       "    </tr>\n",
       "    <tr>\n",
       "      <th>bitrate</th>\n",
       "      <td>0.410831</td>\n",
       "      <td>0.048906</td>\n",
       "      <td>1.000000</td>\n",
       "      <td>-0.016874</td>\n",
       "      <td>0.577006</td>\n",
       "    </tr>\n",
       "    <tr>\n",
       "      <th>duration</th>\n",
       "      <td>0.097332</td>\n",
       "      <td>0.961267</td>\n",
       "      <td>-0.016874</td>\n",
       "      <td>1.000000</td>\n",
       "      <td>0.469610</td>\n",
       "    </tr>\n",
       "    <tr>\n",
       "      <th>size</th>\n",
       "      <td>0.273054</td>\n",
       "      <td>0.523980</td>\n",
       "      <td>0.577006</td>\n",
       "      <td>0.469610</td>\n",
       "      <td>1.000000</td>\n",
       "    </tr>\n",
       "  </tbody>\n",
       "</table>\n",
       "</div>"
      ],
      "text/plain": [
       "           framerate    frames   bitrate  duration      size\n",
       "framerate   1.000000  0.245084  0.410831  0.097332  0.273054\n",
       "frames      0.245084  1.000000  0.048906  0.961267  0.523980\n",
       "bitrate     0.410831  0.048906  1.000000 -0.016874  0.577006\n",
       "duration    0.097332  0.961267 -0.016874  1.000000  0.469610\n",
       "size        0.273054  0.523980  0.577006  0.469610  1.000000"
      ]
     },
     "execution_count": 4,
     "metadata": {},
     "output_type": "execute_result"
    }
   ],
   "source": [
    "data.corr(method = 'pearson')"
   ]
  },
  {
   "cell_type": "code",
   "execution_count": 5,
   "metadata": {},
   "outputs": [
    {
     "data": {
      "text/html": [
       "<div>\n",
       "<style scoped>\n",
       "    .dataframe tbody tr th:only-of-type {\n",
       "        vertical-align: middle;\n",
       "    }\n",
       "\n",
       "    .dataframe tbody tr th {\n",
       "        vertical-align: top;\n",
       "    }\n",
       "\n",
       "    .dataframe thead th {\n",
       "        text-align: right;\n",
       "    }\n",
       "</style>\n",
       "<table border=\"1\" class=\"dataframe\">\n",
       "  <thead>\n",
       "    <tr style=\"text-align: right;\">\n",
       "      <th></th>\n",
       "      <th>framerate</th>\n",
       "      <th>frames</th>\n",
       "      <th>bitrate</th>\n",
       "      <th>duration</th>\n",
       "      <th>size</th>\n",
       "    </tr>\n",
       "  </thead>\n",
       "  <tbody>\n",
       "    <tr>\n",
       "      <th>framerate</th>\n",
       "      <td>1.000000</td>\n",
       "      <td>0.310633</td>\n",
       "      <td>0.500923</td>\n",
       "      <td>-0.030248</td>\n",
       "      <td>0.423211</td>\n",
       "    </tr>\n",
       "    <tr>\n",
       "      <th>frames</th>\n",
       "      <td>0.310633</td>\n",
       "      <td>1.000000</td>\n",
       "      <td>0.184041</td>\n",
       "      <td>0.903545</td>\n",
       "      <td>0.714380</td>\n",
       "    </tr>\n",
       "    <tr>\n",
       "      <th>bitrate</th>\n",
       "      <td>0.500923</td>\n",
       "      <td>0.184041</td>\n",
       "      <td>1.000000</td>\n",
       "      <td>-0.041452</td>\n",
       "      <td>0.759820</td>\n",
       "    </tr>\n",
       "    <tr>\n",
       "      <th>duration</th>\n",
       "      <td>-0.030248</td>\n",
       "      <td>0.903545</td>\n",
       "      <td>-0.041452</td>\n",
       "      <td>1.000000</td>\n",
       "      <td>0.552559</td>\n",
       "    </tr>\n",
       "    <tr>\n",
       "      <th>size</th>\n",
       "      <td>0.423211</td>\n",
       "      <td>0.714380</td>\n",
       "      <td>0.759820</td>\n",
       "      <td>0.552559</td>\n",
       "      <td>1.000000</td>\n",
       "    </tr>\n",
       "  </tbody>\n",
       "</table>\n",
       "</div>"
      ],
      "text/plain": [
       "           framerate    frames   bitrate  duration      size\n",
       "framerate   1.000000  0.310633  0.500923 -0.030248  0.423211\n",
       "frames      0.310633  1.000000  0.184041  0.903545  0.714380\n",
       "bitrate     0.500923  0.184041  1.000000 -0.041452  0.759820\n",
       "duration   -0.030248  0.903545 -0.041452  1.000000  0.552559\n",
       "size        0.423211  0.714380  0.759820  0.552559  1.000000"
      ]
     },
     "execution_count": 5,
     "metadata": {},
     "output_type": "execute_result"
    }
   ],
   "source": [
    "data.corr(method = 'spearman')"
   ]
  },
  {
   "cell_type": "code",
   "execution_count": 6,
   "metadata": {},
   "outputs": [],
   "source": [
    "data.corr(method = 'pearson').to_csv('corrPearson.csv')\n",
    "data.corr(method = 'spearman').to_csv('corrSpearman.csv')"
   ]
  },
  {
   "cell_type": "markdown",
   "metadata": {},
   "source": [
    "Далее оценим значимость каждого коэффициента:\n",
    "    * — коэффициент значим на уровне 5%,\n",
    "    ** — коэффициент значим на уровне 1%,\n",
    "    *** — коэффициент значим на уровне 0.1%.\n"
   ]
  },
  {
   "cell_type": "markdown",
   "metadata": {},
   "source": [
    "$$t = \\frac{r * \\sqrt{(n-2)}}{\\sqrt{(1 - r^2)}}$$"
   ]
  },
  {
   "cell_type": "code",
   "execution_count": 7,
   "metadata": {},
   "outputs": [],
   "source": [
    "corrPearson = pd.read_csv('corrPearson.csv')\n",
    "corrSpearman = pd.read_csv('corrSpearman.csv')"
   ]
  },
  {
   "cell_type": "code",
   "execution_count": 8,
   "metadata": {},
   "outputs": [
    {
     "data": {
      "text/html": [
       "<div>\n",
       "<style scoped>\n",
       "    .dataframe tbody tr th:only-of-type {\n",
       "        vertical-align: middle;\n",
       "    }\n",
       "\n",
       "    .dataframe tbody tr th {\n",
       "        vertical-align: top;\n",
       "    }\n",
       "\n",
       "    .dataframe thead th {\n",
       "        text-align: right;\n",
       "    }\n",
       "</style>\n",
       "<table border=\"1\" class=\"dataframe\">\n",
       "  <thead>\n",
       "    <tr style=\"text-align: right;\">\n",
       "      <th></th>\n",
       "      <th>framerate</th>\n",
       "      <th>frames</th>\n",
       "      <th>bitrate</th>\n",
       "      <th>duration</th>\n",
       "      <th>size</th>\n",
       "    </tr>\n",
       "  </thead>\n",
       "  <tbody>\n",
       "    <tr>\n",
       "      <th>framerate</th>\n",
       "      <td>1.0</td>\n",
       "      <td>*0.245</td>\n",
       "      <td>***0.411</td>\n",
       "      <td>0.097</td>\n",
       "      <td>**0.273</td>\n",
       "    </tr>\n",
       "    <tr>\n",
       "      <th>frames</th>\n",
       "      <td>*0.245</td>\n",
       "      <td>1.0</td>\n",
       "      <td>0.049</td>\n",
       "      <td>***0.961</td>\n",
       "      <td>***0.524</td>\n",
       "    </tr>\n",
       "    <tr>\n",
       "      <th>bitrate</th>\n",
       "      <td>***0.411</td>\n",
       "      <td>0.049</td>\n",
       "      <td>1.0</td>\n",
       "      <td>-0.017</td>\n",
       "      <td>***0.577</td>\n",
       "    </tr>\n",
       "    <tr>\n",
       "      <th>duration</th>\n",
       "      <td>0.097</td>\n",
       "      <td>***0.961</td>\n",
       "      <td>-0.017</td>\n",
       "      <td>1.0</td>\n",
       "      <td>***0.47</td>\n",
       "    </tr>\n",
       "    <tr>\n",
       "      <th>size</th>\n",
       "      <td>**0.273</td>\n",
       "      <td>***0.524</td>\n",
       "      <td>***0.577</td>\n",
       "      <td>***0.47</td>\n",
       "      <td>1.0</td>\n",
       "    </tr>\n",
       "  </tbody>\n",
       "</table>\n",
       "</div>"
      ],
      "text/plain": [
       "          framerate    frames   bitrate  duration      size\n",
       "framerate       1.0    *0.245  ***0.411     0.097   **0.273\n",
       "frames       *0.245       1.0     0.049  ***0.961  ***0.524\n",
       "bitrate    ***0.411     0.049       1.0    -0.017  ***0.577\n",
       "duration      0.097  ***0.961    -0.017       1.0   ***0.47\n",
       "size        **0.273  ***0.524  ***0.577   ***0.47       1.0"
      ]
     },
     "execution_count": 8,
     "metadata": {},
     "output_type": "execute_result"
    }
   ],
   "source": [
    "corrArray = np.empty([data.shape[1], data.shape[1]], dtype = 'object')\n",
    "i, j = 0, 0\n",
    "for name in data.columns:\n",
    "    for name2 in data.columns:\n",
    "        corrArray[i][j] = str(np.round(data.corr(method = 'pearson')[name][name2], decimals=3))\n",
    "        if(name != name2):\n",
    "            t = np.abs(float(corrArray[i][j]) * np.sqrt(data.shape[0] - 2) / np.sqrt(1 - float(corrArray[i][j])**2))\n",
    "            t5 = stats.t.ppf(0.975, data.shape[0] - 2)\n",
    "            t1 = stats.t.ppf(0.995, data.shape[0] - 2)\n",
    "            t01 = stats.t.ppf(0.9995, data.shape[0] - 2)\n",
    "            if(t > t01):\n",
    "                    corrArray[i][j] = '***' + corrArray[i][j] \n",
    "            elif(t > t1):\n",
    "                 corrArray[i][j] = '**' + corrArray[i][j]\n",
    "            elif(t > t5):\n",
    "                 corrArray[i][j] = '*' + corrArray[i][j]\n",
    "        j += 1\n",
    "    i += 1\n",
    "    j = 0\n",
    "corrPearson = pd.DataFrame(data = corrArray, index = data.columns, columns = data.columns)\n",
    "corrPearson.head()"
   ]
  },
  {
   "cell_type": "code",
   "execution_count": 9,
   "metadata": {},
   "outputs": [
    {
     "data": {
      "text/html": [
       "<div>\n",
       "<style scoped>\n",
       "    .dataframe tbody tr th:only-of-type {\n",
       "        vertical-align: middle;\n",
       "    }\n",
       "\n",
       "    .dataframe tbody tr th {\n",
       "        vertical-align: top;\n",
       "    }\n",
       "\n",
       "    .dataframe thead th {\n",
       "        text-align: right;\n",
       "    }\n",
       "</style>\n",
       "<table border=\"1\" class=\"dataframe\">\n",
       "  <thead>\n",
       "    <tr style=\"text-align: right;\">\n",
       "      <th></th>\n",
       "      <th>framerate</th>\n",
       "      <th>frames</th>\n",
       "      <th>bitrate</th>\n",
       "      <th>duration</th>\n",
       "      <th>size</th>\n",
       "    </tr>\n",
       "  </thead>\n",
       "  <tbody>\n",
       "    <tr>\n",
       "      <th>framerate</th>\n",
       "      <td>1.0</td>\n",
       "      <td>**0.311</td>\n",
       "      <td>***0.501</td>\n",
       "      <td>-0.03</td>\n",
       "      <td>***0.423</td>\n",
       "    </tr>\n",
       "    <tr>\n",
       "      <th>frames</th>\n",
       "      <td>**0.311</td>\n",
       "      <td>1.0</td>\n",
       "      <td>0.184</td>\n",
       "      <td>***0.904</td>\n",
       "      <td>***0.714</td>\n",
       "    </tr>\n",
       "    <tr>\n",
       "      <th>bitrate</th>\n",
       "      <td>***0.501</td>\n",
       "      <td>0.184</td>\n",
       "      <td>1.0</td>\n",
       "      <td>-0.041</td>\n",
       "      <td>***0.76</td>\n",
       "    </tr>\n",
       "    <tr>\n",
       "      <th>duration</th>\n",
       "      <td>-0.03</td>\n",
       "      <td>***0.904</td>\n",
       "      <td>-0.041</td>\n",
       "      <td>1.0</td>\n",
       "      <td>***0.553</td>\n",
       "    </tr>\n",
       "    <tr>\n",
       "      <th>size</th>\n",
       "      <td>***0.423</td>\n",
       "      <td>***0.714</td>\n",
       "      <td>***0.76</td>\n",
       "      <td>***0.553</td>\n",
       "      <td>1.0</td>\n",
       "    </tr>\n",
       "  </tbody>\n",
       "</table>\n",
       "</div>"
      ],
      "text/plain": [
       "          framerate    frames   bitrate  duration      size\n",
       "framerate       1.0   **0.311  ***0.501     -0.03  ***0.423\n",
       "frames      **0.311       1.0     0.184  ***0.904  ***0.714\n",
       "bitrate    ***0.501     0.184       1.0    -0.041   ***0.76\n",
       "duration      -0.03  ***0.904    -0.041       1.0  ***0.553\n",
       "size       ***0.423  ***0.714   ***0.76  ***0.553       1.0"
      ]
     },
     "execution_count": 9,
     "metadata": {},
     "output_type": "execute_result"
    }
   ],
   "source": [
    "corrArray = np.empty([data.shape[1], data.shape[1]], dtype = 'object')\n",
    "i, j = 0, 0\n",
    "for name in data.columns:\n",
    "    for name2 in data.columns:\n",
    "        corrArray[i][j] = str(np.round(data.corr(method = 'spearman')[name][name2], decimals = 3))\n",
    "        if(name != name2):\n",
    "            t = np.abs(float(corrArray[i][j]) * np.sqrt(data.shape[0] - 2) / np.sqrt(1 - float(corrArray[i][j])**2))\n",
    "            t5 = stats.t.ppf(0.975, data.shape[0] - 2)\n",
    "            t1 = stats.t.ppf(0.995, data.shape[0] - 2)\n",
    "            t01 = stats.t.ppf(0.9995, data.shape[0] - 2)\n",
    "            if(t > t01):\n",
    "                corrArray[i][j] = '***' + corrArray[i][j] \n",
    "            elif(t > t1):\n",
    "                 corrArray[i][j] = '**' + corrArray[i][j]\n",
    "            elif(t > t5):\n",
    "                 corrArray[i][j] = '*' + corrArray[i][j]\n",
    "        j += 1\n",
    "    i += 1\n",
    "    j = 0\n",
    "corrSpearman = pd.DataFrame(data = corrArray, index = data.columns, columns = data.columns)\n",
    "corrSpearman.head()"
   ]
  },
  {
   "cell_type": "markdown",
   "metadata": {},
   "source": [
    "Самая большая разница коэффициентов у признаков SIZE и FRAMES. Построим диграмму рассеивания"
   ]
  },
  {
   "cell_type": "code",
   "execution_count": 10,
   "metadata": {},
   "outputs": [
    {
     "data": {
      "image/png": "[encoded data removed]",
      "text/plain": [
       "<Figure size 432x288 with 1 Axes>"
      ]
     },
     "metadata": {
      "needs_background": "light"
     },
     "output_type": "display_data"
    }
   ],
   "source": [
    "x = data['frames']\n",
    "y = data['size']\n",
    "\n",
    "plt.scatter(x, y)\n",
    "plt.show()"
   ]
  },
  {
   "cell_type": "code",
   "execution_count": null,
   "metadata": {},
   "outputs": [],
   "source": []
  }
 ],
 "metadata": {
  "kernelspec": {
   "display_name": "Python 3",
   "language": "python",
   "name": "python3"
  },
  "language_info": {
   "codemirror_mode": {
    "name": "ipython",
    "version": 3
   },
   "file_extension": ".py",
   "mimetype": "text/x-python",
   "name": "python",
   "nbconvert_exporter": "python",
   "pygments_lexer": "ipython3",
   "version": "3.7.1"
  }
 },
 "nbformat": 4,
 "nbformat_minor": 2
}
